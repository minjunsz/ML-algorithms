{
  "nbformat": 4,
  "nbformat_minor": 0,
  "metadata": {
    "colab": {
      "name": "KNN.ipynb",
      "provenance": [],
      "collapsed_sections": [],
      "authorship_tag": "ABX9TyOlsETI+MPcO8lx6gl4D42p"
    },
    "kernelspec": {
      "name": "python3",
      "display_name": "Python 3"
    }
  },
  "cells": [
    {
      "cell_type": "code",
      "metadata": {
        "id": "0VgQ3fl4U_-s"
      },
      "source": [
        "import numpy as np\n",
        "from sklearn import datasets\n",
        "from sklearn.model_selection import train_test_split\n",
        "\n",
        "iris = datasets.load_iris()\n",
        "X, y = iris.data, iris.target\n",
        "X_train, X_test, Y_train, Y_test = train_test_split(X, y, test_size=0.2, random_state=1)"
      ],
      "execution_count": null,
      "outputs": []
    },
    {
      "cell_type": "code",
      "metadata": {
        "id": "ETU0QPFbV-uE",
        "colab": {
          "base_uri": "https://localhost:8080/",
          "height": 322
        },
        "outputId": "2fbe814a-d22a-4e20-ded2-8f9f176f52a3"
      },
      "source": [
        "print(\"Input metadata  shape:\", X_train.shape, \"type:\", X_train.dtype)\n",
        "print(\"Output metadata  shape:\", Y_train.shape, \"type:\", Y_train.dtype)\n",
        "print(\"Possible output:\", np.unique(Y_train))\n",
        "\n",
        "import matplotlib.pyplot as plt\n",
        "from matplotlib.colors import ListedColormap\n",
        "cmap = ListedColormap([\"#FF0000\", \"#00FF00\", \"#0000FF\"])\n",
        "\n",
        "plt.figure()\n",
        "plt.scatter(X[:,2], X[:,3], c=y, cmap=cmap, edgecolors='k', s=20)\n",
        "plt.show()"
      ],
      "execution_count": null,
      "outputs": [
        {
          "output_type": "stream",
          "text": [
            "Input metadata  shape: (120, 4) type: float64\n",
            "Output metadata  shape: (120,) type: int64\n",
            "Possible output: [0 1 2]\n"
          ],
          "name": "stdout"
        },
        {
          "output_type": "display_data",
          "data": {
            "image/png": "[encoded data removed]",
            "text/plain": [
              "<Figure size 432x288 with 1 Axes>"
            ]
          },
          "metadata": {
            "tags": [],
            "needs_background": "light"
          }
        }
      ]
    },
    {
      "cell_type": "code",
      "metadata": {
        "id": "tnaw_TUzTnhp"
      },
      "source": [
        "from collections import Counter\n",
        "\n",
        "class KNN:\n",
        "    def __init__(self, k=3):\n",
        "        self.k = k\n",
        "    \n",
        "    \n",
        "    def fit(self, X, y):\n",
        "        \"\"\"\n",
        "        Store all data as train set.\n",
        "\n",
        "        :param X: input of train set\n",
        "        :param y: target vector of train set\n",
        "        :return: returns nothing\n",
        "        \"\"\"\n",
        "        self.X_train = X\n",
        "        self.y_train = y\n",
        "    \n",
        "    def predict(self, X):\n",
        "        \"\"\"\n",
        "        :param X: multiple samples to predict label\n",
        "        :return: predicted label of each sample\n",
        "        \"\"\"\n",
        "        predicted_labels = [self._predict_one(x) for x in X]\n",
        "        return np.array(predicted_labels)\n",
        "\n",
        "    def _predict_one(self, x):\n",
        "        # compute distances\n",
        "        distances = [self._Euclidean_dist(x, x_train) for x_train in self.X_train]\n",
        "        # get k-nearest samples\n",
        "        k_indices = np.argsort(distances)[:self.k]\n",
        "        k_NN_labels = [self.y_train[i] for i in k_indices]\n",
        "        # majority vote\n",
        "        most_common = Counter(k_NN_labels).most_common(1)[0][0]\n",
        "        return most_common\n",
        "\n",
        "    def _Euclidean_dist(self, x1, x2):\n",
        "        return np.sqrt(np.sum(np.square(x1-x2)))"
      ],
      "execution_count": null,
      "outputs": []
    },
    {
      "cell_type": "code",
      "metadata": {
        "colab": {
          "base_uri": "https://localhost:8080/"
        },
        "id": "kcmYKTWjZ5LY",
        "outputId": "1324b777-9258-44ed-86a9-7cbf0a39362f"
      },
      "source": [
        "# classifier clf\n",
        "clf = KNN(k=3)\n",
        "clf.fit(X_train, Y_train)\n",
        "predictions = clf.predict(X_test)\n",
        "accuracy = np.sum(predictions == Y_test) / len(Y_test)\n",
        "print(\"Accuracy of KNN classifier is:\",accuracy*100,\"%\")"
      ],
      "execution_count": null,
      "outputs": [
        {
          "output_type": "stream",
          "text": [
            "Accuracy of KNN classifier is: 100.0 %\n"
          ],
          "name": "stdout"
        }
      ]
    },
    {
      "cell_type": "code",
      "metadata": {
        "id": "0VLdJFiNbOJp"
      },
      "source": [
        ""
      ],
      "execution_count": null,
      "outputs": []
    }
  ]
}
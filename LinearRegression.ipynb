{
  "nbformat": 4,
  "nbformat_minor": 0,
  "metadata": {
    "colab": {
      "name": "LinearRegression.ipynb",
      "provenance": [],
      "collapsed_sections": [],
      "authorship_tag": "ABX9TyPimAp9JTdYrb8x2jCQeTHK",
      "include_colab_link": true
    },
    "kernelspec": {
      "name": "python3",
      "display_name": "Python 3"
    }
  },
  "cells": [
    {
      "cell_type": "markdown",
      "metadata": {
        "id": "view-in-github",
        "colab_type": "text"
      },
      "source": [
        "<a href=\"https://colab.research.google.com/github/minjunsz/ML-algorithms/blob/main/LinearRegression.ipynb\" target=\"_parent\"><img src=\"https://colab.research.google.com/assets/colab-badge.svg\" alt=\"Open In Colab\"/></a>"
      ]
    },
    {
      "cell_type": "code",
      "metadata": {
        "id": "qLXg_tfsArX9"
      },
      "source": [
        "import numpy as np\n",
        "from sklearn.model_selection import train_test_split\n",
        "from sklearn import datasets\n",
        "import matplotlib.pyplot as plt"
      ],
      "execution_count": 1,
      "outputs": []
    },
    {
      "cell_type": "code",
      "metadata": {
        "id": "5SR062FOBP2c"
      },
      "source": [
        "X, y = datasets.make_regression(n_samples=100, n_features=1, noise=20, random_state=632345)\n",
        "X_train, X_test, y_train, y_test = train_test_split(X, y, test_size=0.2, random_state=1123)"
      ],
      "execution_count": 7,
      "outputs": []
    },
    {
      "cell_type": "code",
      "metadata": {
        "colab": {
          "base_uri": "https://localhost:8080/",
          "height": 374
        },
        "id": "rjouyboaCJbJ",
        "outputId": "7dce95e9-6906-40e7-9417-69330cde80bb"
      },
      "source": [
        "plt.figure(figsize=(8,6))\n",
        "plt.scatter(X[:,0], y, color='b', marker=\"o\", s=30)\n",
        "plt.show()"
      ],
      "execution_count": 9,
      "outputs": [
        {
          "output_type": "display_data",
          "data": {
            "image/png": "[encoded data removed]",
            "text/plain": [
              "<Figure size 576x432 with 1 Axes>"
            ]
          },
          "metadata": {
            "tags": [],
            "needs_background": "light"
          }
        }
      ]
    },
    {
      "cell_type": "code",
      "metadata": {
        "id": "GGo4P05f_18g"
      },
      "source": [
        "class LinearRegression:\n",
        "    def __init__(self, lr=1e-3, n_iter = 1000):\n",
        "        self.lr = lr\n",
        "        self.n_iter = n_iter\n",
        "        self.weights = None\n",
        "        self.bias = None\n",
        "    \n",
        "    def fit(self, X, y):\n",
        "        n_samples, n_features = X.shape\n",
        "        self.weights = np.zeros(n_features)\n",
        "        self.bias = 0\n",
        "\n",
        "        for _ in range(self.n_iter):\n",
        "            y_predicted = np.dot(X, self.weights) + self.bias\n",
        "            dw = (1/n_samples) * np.dot(X.T, (y_predicted - y))\n",
        "            db = (1/n_samples) * np.sum(y_predicted - y)\n",
        "\n",
        "            self.weights -= self.lr * dw\n",
        "            self.bias -= self.lr * db\n",
        "    \n",
        "    def predict(self, X):\n",
        "        y_predicted = np.dot(X, self.weights) + self.bias\n",
        "        return y_predicted"
      ],
      "execution_count": 12,
      "outputs": []
    },
    {
      "cell_type": "code",
      "metadata": {
        "id": "PQ2xuyrUEwGu"
      },
      "source": [
        "def mse(y_true, y_predicted):\n",
        "    return np.mean((y_true - y_predicted) ** 2)"
      ],
      "execution_count": 11,
      "outputs": []
    },
    {
      "cell_type": "code",
      "metadata": {
        "colab": {
          "base_uri": "https://localhost:8080/"
        },
        "id": "8C0lX9RWEUKC",
        "outputId": "fd2df712-636b-47cc-a884-5778b6e2e49f"
      },
      "source": [
        "linearRegressor = LinearRegression(lr=0.01)\n",
        "linearRegressor.fit(X_train, y_train)\n",
        "predicted_y = linearRegressor.predict(X_test)\n",
        "\n",
        "mse_value = mse(y_test, predicted_y)\n",
        "print(mse_value)"
      ],
      "execution_count": 14,
      "outputs": [
        {
          "output_type": "stream",
          "text": [
            "248.0464815972608\n"
          ],
          "name": "stdout"
        }
      ]
    },
    {
      "cell_type": "code",
      "metadata": {
        "colab": {
          "base_uri": "https://localhost:8080/",
          "height": 374
        },
        "id": "2aX-hd_PFLNh",
        "outputId": "4b342ad3-3493-414b-d997-32aded46cf40"
      },
      "source": [
        "y_pred_line = linearRegressor.predict(X)\n",
        "cmap = plt.get_cmap(\"viridis\")\n",
        "plt.figure(figsize=(8,6))\n",
        "m1 = plt.scatter(X_train, y_train, color = cmap(0.9), s=10)\n",
        "m2 = plt.scatter(X_test, y_test, color = cmap(0.5), s=10)\n",
        "plt.plot(X, y_pred_line, color=\"black\", linewidth=2, label=\"Prediction\")\n",
        "plt.show()"
      ],
      "execution_count": 17,
      "outputs": [
        {
          "output_type": "display_data",
          "data": {
            "image/png": "[encoded data removed]",
            "text/plain": [
              "<Figure size 576x432 with 1 Axes>"
            ]
          },
          "metadata": {
            "tags": [],
            "needs_background": "light"
          }
        }
      ]
    },
    {
      "cell_type": "code",
      "metadata": {
        "id": "kNhohHpaGCcB"
      },
      "source": [
        ""
      ],
      "execution_count": null,
      "outputs": []
    }
  ]
}
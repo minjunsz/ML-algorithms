{
  "nbformat": 4,
  "nbformat_minor": 0,
  "metadata": {
    "colab": {
      "name": "LogisticRegression.ipynb",
      "provenance": [],
      "collapsed_sections": [],
      "authorship_tag": "ABX9TyMhQnSWxoRQ/aIT7PZCaUq/",
      "include_colab_link": true
    },
    "kernelspec": {
      "name": "python3",
      "display_name": "Python 3"
    }
  },
  "cells": [
    {
      "cell_type": "markdown",
      "metadata": {
        "id": "view-in-github",
        "colab_type": "text"
      },
      "source": [
        "<a href=\"https://colab.research.google.com/github/minjunsz/ML-algorithms/blob/main/LogisticRegression.ipynb\" target=\"_parent\"><img src=\"https://colab.research.google.com/assets/colab-badge.svg\" alt=\"Open In Colab\"/></a>"
      ]
    },
    {
      "cell_type": "markdown",
      "metadata": {
        "id": "VMCjuqfCH2LE"
      },
      "source": [
        "이전의 linear regression과 다르게 [0,1] 사이의 probability를 계산하는게 목적이다.   \r\n",
        "linear regressor가 sigmoid 안에 들어간 형태이며, gradient descent를 위한 최종 계산식은 dw, db는 동일하다"
      ]
    },
    {
      "cell_type": "code",
      "metadata": {
        "id": "FVzmpcEvIAf7"
      },
      "source": [
        "import numpy as np"
      ],
      "execution_count": 1,
      "outputs": []
    },
    {
      "cell_type": "code",
      "metadata": {
        "id": "NRmucwDqICQr"
      },
      "source": [
        "class LogisticRegression:\r\n",
        "    def __init__(self, lr=1e-3, n_iters=1000):\r\n",
        "        self.lr = lr\r\n",
        "        self.n_iters = n_iters\r\n",
        "        self.weights = None\r\n",
        "        self.bias = None\r\n",
        "\r\n",
        "    def fit(self, X, y):\r\n",
        "        #init parameters\r\n",
        "        n_samples, n_features = X.shape\r\n",
        "        self.weights = np.zeros(n_features)\r\n",
        "        self.bias = 0\r\n",
        "        \r\n",
        "        #gradient descent\r\n",
        "        for _ in range(self.n_iters):\r\n",
        "            linear_model = self._linear_model(X)\r\n",
        "            y_predicted = self._sigmoid(linear_model)\r\n",
        "\r\n",
        "            dw = (1 / n_samples) * np.dot(X.T, (y_predicted - y))\r\n",
        "            db = (1 / n_samples) * np.sum(y_predicted - y)\r\n",
        "\r\n",
        "            self.weights -= self.lr * dw\r\n",
        "            self.bias -= self.lr * db\r\n",
        "    \r\n",
        "    def predict(self, X):\r\n",
        "        linear_model = np.dot(X, self.weights) + self.bias\r\n",
        "        y_predicted = self._sigmoid(linear_model)\r\n",
        "        y_predicted_class = [1 if i > 0.5 else 0 for i in y_predicted]\r\n",
        "        return y_predicted_class\r\n",
        "    \r\n",
        "    def _sigmoid(self, x):\r\n",
        "        return 1 / (1 + np.exp(-x))\r\n",
        "    \r\n",
        "    def _linear_model(self, X):\r\n",
        "        return np.dot(X, self.weights) + self.bias"
      ],
      "execution_count": 27,
      "outputs": []
    },
    {
      "cell_type": "code",
      "metadata": {
        "id": "Bi5Wh4P8L3QK"
      },
      "source": [
        "from sklearn.model_selection import train_test_split\r\n",
        "from sklearn import datasets\r\n",
        "import matplotlib.pyplot as plt"
      ],
      "execution_count": 3,
      "outputs": []
    },
    {
      "cell_type": "code",
      "metadata": {
        "id": "WmBBo0UHMDc1"
      },
      "source": [
        "bc = datasets.load_breast_cancer()\r\n",
        "X, y = bc.data, bc.target\r\n",
        "X_train, X_test, y_train, y_test = train_test_split(X, y, test_size = 0.2, random_state = 1234)"
      ],
      "execution_count": 4,
      "outputs": []
    },
    {
      "cell_type": "code",
      "metadata": {
        "id": "hOPppkDAMaGy"
      },
      "source": [
        "def accuracy(y_true, y_pred):\r\n",
        "    accuracy = np.sum(y_true == y_pred) / len(y_true)\r\n",
        "    return accuracy"
      ],
      "execution_count": 8,
      "outputs": []
    },
    {
      "cell_type": "code",
      "metadata": {
        "id": "xlMRnvw1Morr"
      },
      "source": [
        "logisticRegressor = LogisticRegression(lr=1e-5, n_iters=1000)\r\n",
        "logisticRegressor.fit(X_train, y_train)\r\n",
        "predictions = logisticRegressor.predict(X_test)"
      ],
      "execution_count": 28,
      "outputs": []
    },
    {
      "cell_type": "code",
      "metadata": {
        "colab": {
          "base_uri": "https://localhost:8080/"
        },
        "id": "ElHjd9tSM3OH",
        "outputId": "0ba580d4-0a15-437b-f933-0937e7c34ee6"
      },
      "source": [
        "accuracy(y_test, predictions)"
      ],
      "execution_count": 29,
      "outputs": [
        {
          "output_type": "execute_result",
          "data": {
            "text/plain": [
              "0.9210526315789473"
            ]
          },
          "metadata": {
            "tags": []
          },
          "execution_count": 29
        }
      ]
    },
    {
      "cell_type": "code",
      "metadata": {
        "colab": {
          "base_uri": "https://localhost:8080/",
          "height": 374
        },
        "id": "XjisshLdN4RY",
        "outputId": "eb1e02d3-beb2-4d30-fbdd-f70bb1ee66ab"
      },
      "source": [
        "X_linear_train = logisticRegressor._linear_model(X_train)\r\n",
        "X_linear_test = logisticRegressor._linear_model(X_test)\r\n",
        "X_linear = logisticRegressor._linear_model(X)\r\n",
        "y_sigmoid = logisticRegressor._sigmoid(X_linear)\r\n",
        "cmap = plt.get_cmap(\"viridis\")\r\n",
        "plt.figure(figsize=(8,6))\r\n",
        "m1 = plt.scatter(X_linear_train, y_train, color = cmap(0.9), s=10)\r\n",
        "m2 = plt.scatter(X_linear_test, y_test, color = cmap(0.5), s=10)\r\n",
        "plt.scatter(X_linear, y_sigmoid, color=\"black\", s=2, label=\"Prediction\")\r\n",
        "plt.show()"
      ],
      "execution_count": 37,
      "outputs": [
        {
          "output_type": "display_data",
          "data": {
            "image/png": "[encoded data removed]",
            "text/plain": [
              "<Figure size 576x432 with 1 Axes>"
            ]
          },
          "metadata": {
            "tags": [],
            "needs_background": "light"
          }
        }
      ]
    },
    {
      "cell_type": "code",
      "metadata": {
        "id": "aa3HVB6BOVOU"
      },
      "source": [
        ""
      ],
      "execution_count": null,
      "outputs": []
    }
  ]
}